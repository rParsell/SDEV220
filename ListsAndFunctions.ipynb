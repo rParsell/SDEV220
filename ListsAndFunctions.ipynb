{
 "cells": [
  {
   "cell_type": "code",
   "execution_count": 77,
   "id": "9f076c76-48d0-4da6-aadd-dd8c626de964",
   "metadata": {},
   "outputs": [],
   "source": [
    "things = ['mozarella','cinderella','salmonella']\n",
    "number = 0"
   ]
  },
  {
   "cell_type": "code",
   "execution_count": 79,
   "id": "7844dfb7-86f0-42f6-bb89-16d4a094d40d",
   "metadata": {},
   "outputs": [
    {
     "name": "stdout",
     "output_type": "stream",
     "text": [
      "['mozarella', 'Cinderella', 'salmonella']\n"
     ]
    }
   ],
   "source": [
    "for x in range(len(things)):\n",
    "    number = number + 1\n",
    "    if number == 2:\n",
    "        things[x] = things[x].capitalize()\n",
    "number = 0\n",
    "print(things)\n"
   ]
  },
  {
   "cell_type": "code",
   "execution_count": 81,
   "id": "ae1bfb9a-c23a-4e50-a39d-c63f070fe4d6",
   "metadata": {},
   "outputs": [
    {
     "name": "stdout",
     "output_type": "stream",
     "text": [
      "['MOZARELLA', 'Cinderella', 'salmonella']\n"
     ]
    }
   ],
   "source": [
    "for x in range(len(things)):\n",
    "    number = number + 1\n",
    "    if number == 1:\n",
    "        things[x] = things[x].upper()\n",
    "number = 0\n",
    "print(things)"
   ]
  },
  {
   "cell_type": "code",
   "execution_count": 83,
   "id": "dfe71905-becd-4397-915b-e943d25dbec3",
   "metadata": {},
   "outputs": [
    {
     "name": "stdout",
     "output_type": "stream",
     "text": [
      "['MOZARELLA', 'Cinderella']\n"
     ]
    }
   ],
   "source": [
    "for x in range(len(things)):\n",
    "    number = number + 1\n",
    "    if number == 3:\n",
    "        things.pop(x)\n",
    "number = 0\n",
    "print(things)"
   ]
  },
  {
   "cell_type": "code",
   "execution_count": 89,
   "id": "03b1a9fa-7565-4513-a949-3508c01febfa",
   "metadata": {},
   "outputs": [],
   "source": [
    "def good():\n",
    "    mid = ['Harry', 'Ron', 'Hermione']\n",
    "    return mid "
   ]
  },
  {
   "cell_type": "code",
   "execution_count": 105,
   "id": "66da15a7-3e6f-4403-85e6-d7367f77aa97",
   "metadata": {},
   "outputs": [
    {
     "name": "stdout",
     "output_type": "stream",
     "text": [
      "5\n"
     ]
    }
   ],
   "source": [
    "def get_odds():\n",
    "    odds = []\n",
    "    for x in range(10):\n",
    "        if x % 2 != 0:\n",
    "            odds.append(x)\n",
    "    return odds[2]\n",
    "print(get_odds())"
   ]
  },
  {
   "cell_type": "code",
   "execution_count": null,
   "id": "2986c1a0-148d-482c-b50c-8ecfdd56f932",
   "metadata": {},
   "outputs": [],
   "source": []
  }
 ],
 "metadata": {
  "kernelspec": {
   "display_name": "Python [conda env:base] *",
   "language": "python",
   "name": "conda-base-py"
  },
  "language_info": {
   "codemirror_mode": {
    "name": "ipython",
    "version": 3
   },
   "file_extension": ".py",
   "mimetype": "text/x-python",
   "name": "python",
   "nbconvert_exporter": "python",
   "pygments_lexer": "ipython3",
   "version": "3.12.7"
  }
 },
 "nbformat": 4,
 "nbformat_minor": 5
}
