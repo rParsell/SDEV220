{
 "cells": [
  {
   "cell_type": "code",
   "execution_count": 17,
   "id": "26811791-0ffe-4f2b-8d34-f10863bdcc41",
   "metadata": {},
   "outputs": [
    {
     "name": "stdout",
     "output_type": "stream",
     "text": [
      "Today's date and time is 2025-04-27 19:10:16.905859\n",
      "Today's date and time is 2025-04-27 19:10:17.830550\n",
      "Today's date and time is 2025-04-27 19:10:18.233175\n"
     ]
    }
   ],
   "source": [
    "import multiprocessing\n",
    "\n",
    "from datetime import datetime\n",
    "\n",
    "import time\n",
    "\n",
    "import random\n",
    "\n",
    "name = 'time'\n",
    "\n",
    "def multiTime():\n",
    "\n",
    "   cur = datetime.now()\n",
    "\n",
    "   print(\"Today's date and time is {}\".format(cur))\n",
    "\n",
    "   time.sleep(random.random())\n",
    "\n",
    "if name == 'time':\n",
    "\n",
    "   proc1 = multiprocessing.Process(target=multiTime())\n",
    "\n",
    "   proc2 = multiprocessing.Process(target=multiTime())\n",
    "\n",
    "   proc3 = multiprocessing.Process(target=multiTime())\n",
    "\n",
    "   proc1.start()\n",
    "\n",
    "   proc2.start()\n",
    "\n",
    "   proc3.start()\n",
    "\n",
    "   proc1.join()\n",
    "\n",
    "   proc2.join()\n",
    "\n",
    "   proc3.join()"
   ]
  },
  {
   "cell_type": "code",
   "execution_count": null,
   "id": "051a6f97-8279-4629-a06b-932bfa2d0e51",
   "metadata": {},
   "outputs": [],
   "source": []
  }
 ],
 "metadata": {
  "kernelspec": {
   "display_name": "Python [conda env:base] *",
   "language": "python",
   "name": "conda-base-py"
  },
  "language_info": {
   "codemirror_mode": {
    "name": "ipython",
    "version": 3
   },
   "file_extension": ".py",
   "mimetype": "text/x-python",
   "name": "python",
   "nbconvert_exporter": "python",
   "pygments_lexer": "ipython3",
   "version": "3.12.7"
  }
 },
 "nbformat": 4,
 "nbformat_minor": 5
}
