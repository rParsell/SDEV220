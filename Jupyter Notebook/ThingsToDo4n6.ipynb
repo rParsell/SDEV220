{
 "cells": [
  {
   "cell_type": "code",
   "execution_count": 23,
   "id": "9293b2a8-dcf3-4c5b-9644-79180a31ae01",
   "metadata": {},
   "outputs": [
    {
     "name": "stdout",
     "output_type": "stream",
     "text": [
      "What is the secret number?\n"
     ]
    },
    {
     "name": "stdin",
     "output_type": "stream",
     "text": [
      " 9\n"
     ]
    },
    {
     "name": "stdout",
     "output_type": "stream",
     "text": [
      "What is the guess\n"
     ]
    },
    {
     "name": "stdin",
     "output_type": "stream",
     "text": [
      " 9\n"
     ]
    },
    {
     "name": "stdout",
     "output_type": "stream",
     "text": [
      "Just right\n"
     ]
    }
   ],
   "source": [
    "print('What is the secret number?')\n",
    "secret = float(input())\n",
    "print('What is the guess')\n",
    "guess = float(input())\n",
    "if guess < secret :\n",
    "    print('Too Low')\n",
    "elif guess > secret :\n",
    "    print('Too High')\n",
    "else:\n",
    "    print('Just right')"
   ]
  },
  {
   "cell_type": "code",
   "execution_count": 25,
   "id": "09760bb6-8846-4ced-927b-8afb028b4b5a",
   "metadata": {},
   "outputs": [
    {
     "name": "stdout",
     "output_type": "stream",
     "text": [
      "cherry\n"
     ]
    }
   ],
   "source": [
    "small = True\n",
    "green = False\n",
    "if small and green:\n",
    "    print('pea')\n",
    "elif small and not green:\n",
    "    print('cherry')\n",
    "elif not small and green:\n",
    "    print('watermelon')\n",
    "elif not small and not green:\n",
    "    print('pumpkin')"
   ]
  },
  {
   "cell_type": "code",
   "execution_count": 27,
   "id": "36668d0c-160b-471d-bf92-7cabefcbd743",
   "metadata": {},
   "outputs": [
    {
     "name": "stdout",
     "output_type": "stream",
     "text": [
      "3\n",
      "2\n",
      "1\n",
      "0\n"
     ]
    }
   ],
   "source": [
    "list = [3,2,1,0]\n",
    "for number in list:\n",
    "    print(number)"
   ]
  },
  {
   "cell_type": "code",
   "execution_count": 43,
   "id": "3ab5bb55-8d91-4c42-a03a-7f37cf455f2b",
   "metadata": {},
   "outputs": [
    {
     "name": "stdout",
     "output_type": "stream",
     "text": [
      "too low\n",
      "too low\n",
      "too low\n",
      "too low\n",
      "too low\n",
      "too low\n",
      "Fount it!\n"
     ]
    }
   ],
   "source": [
    "guess_me = 7\n",
    "number = 1\n",
    "\n",
    "while number > 0:\n",
    "    if number == guess_me:\n",
    "        print('Fount it!')\n",
    "        break\n",
    "    elif number > guess_me:\n",
    "        print('oops')\n",
    "        break\n",
    "    elif number < guess_me:\n",
    "        print('too low')\n",
    "        number = number + 1"
   ]
  },
  {
   "cell_type": "code",
   "execution_count": 45,
   "id": "d9217302-2289-4ca7-bcea-1bd2257bbe3e",
   "metadata": {},
   "outputs": [
    {
     "name": "stdout",
     "output_type": "stream",
     "text": [
      "too low\n",
      "too low\n",
      "too low\n",
      "too low\n",
      "too low\n",
      "Fount it!\n"
     ]
    }
   ],
   "source": [
    "guess_me = 5\n",
    "\n",
    "for number in range(10):\n",
    "    if number == guess_me:\n",
    "        print('Fount it!')\n",
    "        break\n",
    "    elif number > guess_me:\n",
    "        print('oops')\n",
    "        break\n",
    "    elif number < guess_me:\n",
    "        print('too low')"
   ]
  },
  {
   "cell_type": "code",
   "execution_count": null,
   "id": "7283e154-a19d-4309-baf5-eb32df38d6d5",
   "metadata": {},
   "outputs": [],
   "source": []
  }
 ],
 "metadata": {
  "kernelspec": {
   "display_name": "Python [conda env:base] *",
   "language": "python",
   "name": "conda-base-py"
  },
  "language_info": {
   "codemirror_mode": {
    "name": "ipython",
    "version": 3
   },
   "file_extension": ".py",
   "mimetype": "text/x-python",
   "name": "python",
   "nbconvert_exporter": "python",
   "pygments_lexer": "ipython3",
   "version": "3.12.7"
  }
 },
 "nbformat": 4,
 "nbformat_minor": 5
}
