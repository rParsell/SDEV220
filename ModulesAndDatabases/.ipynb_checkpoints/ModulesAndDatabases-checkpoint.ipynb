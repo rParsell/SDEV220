{
 "cells": [
  {
   "cell_type": "code",
   "execution_count": 12,
   "id": "4573f1d3-4af6-4f8d-8a53-66c4bd4c62d9",
   "metadata": {},
   "outputs": [
    {
     "name": "stdout",
     "output_type": "stream",
     "text": [
      "Open 9-5 daily\n",
      "None\n"
     ]
    }
   ],
   "source": [
    "import zoo as menagerie\n",
    "print(menagerie.hours())"
   ]
  },
  {
   "cell_type": "code",
   "execution_count": null,
   "id": "2e6f2158-8ef9-4e33-a1db-cab13fb201e8",
   "metadata": {},
   "outputs": [],
   "source": []
  }
 ],
 "metadata": {
  "kernelspec": {
   "display_name": "Python [conda env:base] *",
   "language": "python",
   "name": "conda-base-py"
  },
  "language_info": {
   "codemirror_mode": {
    "name": "ipython",
    "version": 3
   },
   "file_extension": ".py",
   "mimetype": "text/x-python",
   "name": "python",
   "nbconvert_exporter": "python",
   "pygments_lexer": "ipython3",
   "version": "3.12.7"
  }
 },
 "nbformat": 4,
 "nbformat_minor": 5
}
